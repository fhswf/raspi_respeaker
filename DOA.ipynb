{
 "cells": [
  {
   "cell_type": "code",
   "execution_count": null,
   "metadata": {},
   "outputs": [],
   "source": [
    "\"\"\"\n",
    "Record audio from a 4 mic array, and then search the keyword \"snowboy\".\n",
    "After finding the keyword, Direction Of Arrival (DOA) is estimated.\n",
    "\n",
    "The hardware is respeaker 4 mic array for raspberry pi:\n",
    "    https://www.seeedstudio.com/ReSpeaker-Mic-Array-Far-field-w--7-PDM-Microphones--p-2719.html\n",
    "\"\"\"\n",
    "\n",
    "import time\n",
    "from voice_engine.source import Source\n",
    "from voice_engine.kws import KWS\n",
    "from voice_engine.doa_respeaker_4mic_array import DOA\n",
    "from voice_engine.delay_sum import DelaySum\n",
    "from pixel_ring import pixel_ring\n",
    "from gpiozero import LED\n",
    "\n",
    "\n",
    "max_offset = int(16000 * 0.081 / 340)\n",
    "\n",
    "\n",
    "def main():\n",
    "    power = LED(5)\n",
    "    power.on()\n",
    "    pixel_ring.change_pattern('echo')\n",
    "\n",
    "    src = Source(rate=16000, frames_size=320, channels=4)\n",
    "    ds = DelaySum(channels=4, frames_size=src.frames_size, max_offset=max_offset)\n",
    "    kws = KWS(model='jarvis')\n",
    "    doa = DOA(rate=16000, chunks=20)\n",
    "\n",
    "    src.link(ds)\n",
    "    ds.link(kws)\n",
    "\n",
    "    src.link(doa)\n",
    "\n",
    "    def on_detected(keyword):\n",
    "        direction = doa.get_direction()\n",
    "        pixel_ring.wakeup(direction)\n",
    "        print('detected {} at direction {}'.format(keyword, direction))\n",
    "\n",
    "    kws.on_detected = on_detected\n",
    "\n",
    "    src.recursive_start()\n",
    "    while True:\n",
    "        try:\n",
    "            time.sleep(1)\n",
    "        except KeyboardInterrupt:\n",
    "            print('quit')\n",
    "            break\n",
    "\n",
    "    src.recursive_stop()\n",
    "    power.off()\n",
    "\n",
    "main()"
   ]
  }
 ],
 "metadata": {
  "kernelspec": {
   "display_name": "Python 3",
   "language": "python",
   "name": "python3"
  },
  "language_info": {
   "codemirror_mode": {
    "name": "ipython",
    "version": 3
   },
   "file_extension": ".py",
   "mimetype": "text/x-python",
   "name": "python",
   "nbconvert_exporter": "python",
   "pygments_lexer": "ipython3",
   "version": "3.7.3"
  }
 },
 "nbformat": 4,
 "nbformat_minor": 4
}
