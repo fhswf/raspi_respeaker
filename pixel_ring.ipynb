{
 "cells": [
  {
   "cell_type": "code",
   "execution_count": 1,
   "metadata": {},
   "outputs": [],
   "source": [
    "\"\"\"\n",
    "Control pixel ring on ReSpeaker 4 Mic Array\n",
    "pip install pixel_ring gpiozero\n",
    "\"\"\"\n",
    "\n",
    "import time\n",
    "\n",
    "from pixel_ring import pixel_ring\n",
    "from gpiozero import LED\n",
    "\n",
    "pixel_ring.change_pattern('echo')\n",
    "power = LED(5)\n",
    "power.on()\n",
    "\n",
    "pixel_ring.set_brightness(10)\n",
    "\n",
    "if __name__ == '__main__':\n",
    "    while True:\n",
    "\n",
    "        try:\n",
    "            pixel_ring.wakeup()\n",
    "            time.sleep(3)\n",
    "            pixel_ring.think()\n",
    "            time.sleep(3)\n",
    "            pixel_ring.speak()\n",
    "            time.sleep(6)\n",
    "            pixel_ring.off()\n",
    "            time.sleep(3)\n",
    "        except KeyboardInterrupt:\n",
    "            break\n",
    "\n",
    "\n",
    "    pixel_ring.off()\n",
    "    time.sleep(1)\n",
    "\n",
    "power.off()"
   ]
  },
  {
   "cell_type": "code",
   "execution_count": null,
   "metadata": {},
   "outputs": [],
   "source": []
  }
 ],
 "metadata": {
  "kernelspec": {
   "display_name": "Python 3",
   "language": "python",
   "name": "python3"
  },
  "language_info": {
   "codemirror_mode": {
    "name": "ipython",
    "version": 3
   },
   "file_extension": ".py",
   "mimetype": "text/x-python",
   "name": "python",
   "nbconvert_exporter": "python",
   "pygments_lexer": "ipython3",
   "version": "3.7.3"
  }
 },
 "nbformat": 4,
 "nbformat_minor": 4
}
