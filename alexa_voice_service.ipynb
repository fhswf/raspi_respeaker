{
 "cells": [
  {
   "cell_type": "code",
   "execution_count": null,
   "metadata": {},
   "outputs": [
    {
     "name": "stderr",
     "output_type": "stream",
     "text": [
      "INFO:avs.alexa:Refreshing access_token\n"
     ]
    },
    {
     "name": "stdout",
     "output_type": "stream",
     "text": [
      "['arecord', '-t', 'raw', '-f', 'S16_LE', '-c', '4', '-r', '16000', '-D', 'default', '-q']\n"
     ]
    },
    {
     "name": "stderr",
     "output_type": "stream",
     "text": [
      "/usr/local/lib/python3.7/dist-packages/voice_engine/gcc_phat.py:22: RuntimeWarning: invalid value encountered in true_divide\n",
      "  cc = np.fft.irfft(R / np.abs(R), n=(interp * n))\n",
      "INFO:hyper.http20.connection:Received unhandled event <RemoteSettingsChanged changed_settings:{ChangedSetting(setting=SettingCodes._max_header_list_size, original_value=None, new_value=8192)}>\n",
      "INFO:hyper.http20.connection:Received unhandled event <SettingsAcknowledged changed_settings:{ChangedSetting(setting=SettingCodes.ENABLE_PUSH, original_value=1, new_value=0)}>\n",
      "INFO:hyper.http20.connection:Received unhandled event <SettingsAcknowledged changed_settings:{}>\n",
      "INFO:hyper.http20.connection:Received unhandled event <RemoteSettingsChanged changed_settings:{ChangedSetting(setting=SettingCodes.MAX_CONCURRENT_STREAMS, original_value=None, new_value=100)}>\n",
      "INFO:avs.alexa:wait for response\n",
      "INFO:avs.alexa:status code: 204\n",
      "INFO:avs.alexa:on_ready\n",
      "INFO:root:detected 2 at direction 225.20929207782842\n",
      "INFO:hyper.http20.connection:Received unhandled event <WindowUpdated stream_id:0, delta:32921>\n",
      "INFO:hyper.http20.connection:Received unhandled event <WindowUpdated stream_id:5, delta:33072>\n",
      "INFO:hyper.http20.connection:Received unhandled event <WindowUpdated stream_id:0, delta:32960>\n",
      "INFO:hyper.http20.connection:Received unhandled event <WindowUpdated stream_id:5, delta:32960>\n",
      "INFO:avs.alexa:{\n",
      "    \"header\": {\n",
      "        \"namespace\": \"SpeechRecognizer\",\n",
      "        \"name\": \"StopCapture\",\n",
      "        \"messageId\": \"4cc16910-312f-408a-895d-df22fc7e3c87\",\n",
      "        \"dialogRequestId\": \"1ab234dca04246669c006b025770d5be\"\n",
      "    },\n",
      "    \"payload\": {}\n",
      "}\n",
      "INFO:SpeechRecognizer:StopCapture\n",
      "INFO:avs.alexa:wait for response\n",
      "INFO:avs.alexa:status code: 200\n",
      "INFO:avs.alexa:write audio to OTdjNGY5.mp3\n",
      "INFO:avs.alexa:write audio to YXJuOnBy.mp3\n",
      "INFO:avs.alexa:{\n",
      "    \"header\": {\n",
      "        \"namespace\": \"SpeechSynthesizer\",\n",
      "        \"name\": \"Speak\",\n",
      "        \"messageId\": \"ea2b8c5b-c321-4f33-9229-961034948445\",\n",
      "        \"dialogRequestId\": \"1ab234dca04246669c006b025770d5be\"\n",
      "    },\n",
      "    \"payload\": {\n",
      "        \"url\": \"cid:97c4f9d2-60ed-40d2-a1a5-44daeb5111ab_1372008267\",\n",
      "        \"format\": \"AUDIO_MPEG\",\n",
      "        \"token\": \"amzn1.as-ct.v1.Domain:Application:NotificationsV4#ACRI#97c4f9d2-60ed-40d2-a1a5-44daeb5111ab\"\n",
      "    }\n",
      "}\n",
      "INFO:SpeechSynthesizer:playing OTdjNGY5\n",
      "INFO:avs.alexa:{\n",
      "    \"header\": {\n",
      "        \"namespace\": \"SpeechSynthesizer\",\n",
      "        \"name\": \"Speak\",\n",
      "        \"messageId\": \"91408188-d043-4ac3-adcc-8ba3287615bb\",\n",
      "        \"dialogRequestId\": \"1ab234dca04246669c006b025770d5be\"\n",
      "    },\n",
      "    \"payload\": {\n",
      "        \"url\": \"cid:arn:prompt:static:qjbl:opportunity:amzn1.alexa.contentinjection-opportunity.v1.ee31d114-e002-4d3a-9113-1219292d12bf_1426357300\",\n",
      "        \"format\": \"AUDIO_MPEG\",\n",
      "        \"token\": \"amzn1.as-ct.v1.DOMAIN:GLOBAL:CONTENT_INJECTION#ACRI#arn:prompt:static:qjbl:opportunity:amzn1.alexa.contentinjection-opportunity.v1.ee31d114-e002-4d3a-9113-1219292d12bf\"\n",
      "    }\n",
      "}\n",
      "INFO:SpeechSynthesizer:playing YXJuOnBy\n",
      "INFO:SpeechRecognizer:wait until speech synthesizer is finished\n"
     ]
    },
    {
     "name": "stdout",
     "output_type": "stream",
     "text": [
      "Playing /tmp/OTdjNGY5.mp3\n",
      "Finished /tmp/YXJuOnBy.mp3\n",
      "Playing /tmp/YXJuOnBy.mp3\n"
     ]
    },
    {
     "name": "stderr",
     "output_type": "stream",
     "text": [
      "/usr/local/lib/python3.7/dist-packages/voice_engine/gcc_phat.py:22: RuntimeWarning: invalid value encountered in true_divide\n",
      "  cc = np.fft.irfft(R / np.abs(R), n=(interp * n))\n",
      "INFO:SpeechRecognizer:synthesizer is finished\n",
      "INFO:SpeechRecognizer:conversation = 0\n",
      "INFO:avs.alexa:wait for response\n",
      "INFO:avs.alexa:status code: 204\n",
      "INFO:avs.alexa:wait for response\n"
     ]
    },
    {
     "name": "stdout",
     "output_type": "stream",
     "text": [
      "Finished /tmp/YXJuOnBy.mp3\n"
     ]
    },
    {
     "name": "stderr",
     "output_type": "stream",
     "text": [
      "INFO:avs.alexa:status code: 204\n",
      "INFO:avs.alexa:wait for response\n",
      "INFO:avs.alexa:status code: 204\n",
      "INFO:root:detected 2 at direction 225.20929207782842\n",
      "INFO:hyper.http20.connection:Received unhandled event <WindowUpdated stream_id:0, delta:32834>\n",
      "INFO:hyper.http20.connection:Received unhandled event <WindowUpdated stream_id:13, delta:32919>\n",
      "INFO:hyper.http20.connection:Received unhandled event <WindowUpdated stream_id:0, delta:32960>\n",
      "INFO:avs.alexa:{\n",
      "    \"header\": {\n",
      "        \"namespace\": \"SpeechRecognizer\",\n",
      "        \"name\": \"StopCapture\",\n",
      "        \"messageId\": \"2e11ba7f-ee9b-462c-b4d9-67b3c2b2544a\",\n",
      "        \"dialogRequestId\": \"dd06a0b2f26f425fae8df3683e4cc7cc\"\n",
      "    },\n",
      "    \"payload\": {}\n",
      "}\n",
      "INFO:SpeechRecognizer:StopCapture\n",
      "INFO:avs.alexa:wait for response\n"
     ]
    }
   ],
   "source": [
    "import time\n",
    "import logging\n",
    "from voice_engine.source import Source\n",
    "from voice_engine.channel_picker import ChannelPicker\n",
    "from voice_engine.delay_sum import DelaySum\n",
    "from voice_engine.kws import KWS\n",
    "from voice_engine.ns import NS\n",
    "from voice_engine.doa_respeaker_4mic_array import DOA\n",
    "from avs.alexa import Alexa\n",
    "from pixels import pixels\n",
    "\n",
    "max_offset = int(16000 * 0.081 / 340)\n",
    "\n",
    "def main():\n",
    "    logging.basicConfig(level=logging.INFO)\n",
    "\n",
    "    src = Source(rate=16000, channels=4) \n",
    "    ds = DelaySum(channels=4, frames_size=src.frames_size, max_offset=max_offset)\n",
    "    ns = NS(rate=16000, channels=1)\n",
    "    kws = KWS(model='jarvis')\n",
    "    doa = DOA(rate=16000)\n",
    "    alexa = Alexa()\n",
    "\n",
    "    alexa.state_listener.on_listening = pixels.listen\n",
    "    alexa.state_listener.on_thinking = pixels.think\n",
    "    alexa.state_listener.on_speaking = pixels.speak\n",
    "    alexa.state_listener.on_finished = pixels.off\n",
    "\n",
    "    def on_detected(keyword):\n",
    "        direction = doa.get_direction()\n",
    "        logging.info('detected {} at direction {}'.format(keyword, direction))\n",
    "        pixels.wakeup(direction)\n",
    "        alexa.listen()\n",
    "\n",
    "    kws.on_detected = on_detected\n",
    "\n",
    "    src.link(ds)\n",
    "    ds.link(ns)\n",
    "    ns.link(kws)\n",
    "    kws.link(alexa)\n",
    "\n",
    "    src.link(doa)\n",
    "\n",
    "    src.recursive_start()\n",
    "\n",
    "    while True:\n",
    "        try:\n",
    "            time.sleep(1)\n",
    "        except KeyboardInterrupt:\n",
    "            break\n",
    "\n",
    "    src.recursive_stop()\n",
    "\n",
    "main()   "
   ]
  },
  {
   "cell_type": "code",
   "execution_count": null,
   "metadata": {},
   "outputs": [],
   "source": []
  }
 ],
 "metadata": {
  "kernelspec": {
   "display_name": "Python 3",
   "language": "python",
   "name": "python3"
  },
  "language_info": {
   "codemirror_mode": {
    "name": "ipython",
    "version": 3
   },
   "file_extension": ".py",
   "mimetype": "text/x-python",
   "name": "python",
   "nbconvert_exporter": "python",
   "pygments_lexer": "ipython3",
   "version": "3.7.3"
  }
 },
 "nbformat": 4,
 "nbformat_minor": 4
}
