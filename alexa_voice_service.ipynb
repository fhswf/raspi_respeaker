{
 "cells": [
  {
   "cell_type": "code",
   "execution_count": null,
   "metadata": {},
   "outputs": [],
   "source": [
    "import time\n",
    "import logging\n",
    "from voice_engine.source import Source\n",
    "from voice_engine.channel_picker import ChannelPicker\n",
    "from voice_engine.delay_sum import DelaySum\n",
    "from voice_engine.kws import KWS\n",
    "from voice_engine.ns import NS\n",
    "from voice_engine.doa_respeaker_4mic_array import DOA\n",
    "from avs.alexa import Alexa\n",
    "from pixels import pixels\n",
    "\n",
    "max_offset = int(16000 * 0.081 / 340)\n",
    "\n",
    "def main():\n",
    "    logging.basicConfig(level=logging.INFO)\n",
    "\n",
    "    src = Source(rate=16000, channels=4) \n",
    "    ds = DelaySum(channels=4, frames_size=src.frames_size, max_offset=max_offset)\n",
    "    ns = NS(rate=16000, channels=1)\n",
    "    kws = KWS(model='jarvis')\n",
    "    doa = DOA(rate=16000)\n",
    "    alexa = Alexa()\n",
    "\n",
    "    alexa.state_listener.on_listening = pixels.listen\n",
    "    alexa.state_listener.on_thinking = pixels.think\n",
    "    alexa.state_listener.on_speaking = pixels.speak\n",
    "    alexa.state_listener.on_finished = pixels.off\n",
    "\n",
    "    def on_detected(keyword):\n",
    "        direction = doa.get_direction()\n",
    "        logging.info('detected {} at direction {}'.format(keyword, direction))\n",
    "        pixels.wakeup(direction)\n",
    "        alexa.listen()\n",
    "\n",
    "    kws.on_detected = on_detected\n",
    "\n",
    "    src.link(ds)\n",
    "    ds.link(ns)\n",
    "    ns.link(kws)\n",
    "    kws.link(alexa)\n",
    "\n",
    "    src.link(doa)\n",
    "\n",
    "    src.recursive_start()\n",
    "\n",
    "    while True:\n",
    "        try:\n",
    "            time.sleep(1)\n",
    "        except KeyboardInterrupt:\n",
    "            break\n",
    "\n",
    "    src.recursive_stop()\n",
    "\n",
    "main()   "
   ]
  },
  {
   "cell_type": "code",
   "execution_count": null,
   "metadata": {},
   "outputs": [],
   "source": []
  }
 ],
 "metadata": {
  "kernelspec": {
   "display_name": "Python 3",
   "language": "python",
   "name": "python3"
  },
  "language_info": {
   "codemirror_mode": {
    "name": "ipython",
    "version": 3
   },
   "file_extension": ".py",
   "mimetype": "text/x-python",
   "name": "python",
   "nbconvert_exporter": "python",
   "pygments_lexer": "ipython3",
   "version": "3.7.3"
  }
 },
 "nbformat": 4,
 "nbformat_minor": 4
}
